{
 "cells": [
  {
   "cell_type": "code",
   "execution_count": 1,
   "id": "cae77699",
   "metadata": {},
   "outputs": [],
   "source": [
    "import pandas as pd\n",
    "from sklearn.feature_extraction.text import TfidfVectorizer\n",
    "from sklearn.metrics.pairwise import linear_kernel\n",
    "\n",
    "data = pd.read_csv(\"preprocessed_data.csv\")\n",
    "\n",
    "df = pd.DataFrame(data)\n",
    "df['genre'] = df['genre'].fillna('')\n",
    "df['description'] = df['description'].fillna('')"
   ]
  },
  {
   "cell_type": "code",
   "execution_count": 2,
   "id": "7086a695",
   "metadata": {},
   "outputs": [],
   "source": [
    "tfidf = TfidfVectorizer(stop_words='english')\n",
    "tfidf_matrix = tfidf.fit_transform(df['genre'] + ' ' + df['description'])\n",
    "\n",
    "cosine_sim = linear_kernel(tfidf_matrix, tfidf_matrix)"
   ]
  },
  {
   "cell_type": "code",
   "execution_count": 3,
   "id": "c63115f0",
   "metadata": {},
   "outputs": [
    {
     "name": "stdout",
     "output_type": "stream",
     "text": [
      "Movies similar to 'METROPOLIS':\n",
      "2796                      CODE 46\n",
      "4278           MILH HADHA AL-BAHR\n",
      "5720                       FENCES\n",
      "718                    HIGH HOPES\n",
      "2639    RESIDENT EVIL: APOCALYPSE\n",
      "3421                   STEEL CITY\n",
      "4884            THE SON OF NO ONE\n",
      "2980             THE HONEYMOONERS\n",
      "4010                    BABY MAMA\n",
      "2444               ALL OR NOTHING\n",
      "Name: title, dtype: object\n"
     ]
    }
   ],
   "source": [
    "def recommend_movies(title, cosine_sim=cosine_sim):\n",
    "    idx = df[df['title'] == title].index[0]\n",
    "    sim_scores = list(enumerate(cosine_sim[idx]))\n",
    "    sim_scores = sorted(sim_scores, key=lambda x: x[1], reverse=True)\n",
    "    sim_scores = sim_scores[1:11]\n",
    "    movie_indices = [i[0] for i in sim_scores]\n",
    "    return df['title'].iloc[movie_indices]\n",
    "\n",
    "movie_title = \"METROPOLIS\"\n",
    "recommendations = recommend_movies(movie_title)\n",
    "print(f\"Movies similar to '{movie_title}':\")\n",
    "print(recommendations)"
   ]
  },
  {
   "cell_type": "code",
   "execution_count": null,
   "id": "9f419e39",
   "metadata": {},
   "outputs": [],
   "source": []
  }
 ],
 "metadata": {
  "kernelspec": {
   "display_name": "Python 3 (ipykernel)",
   "language": "python",
   "name": "python3"
  },
  "language_info": {
   "codemirror_mode": {
    "name": "ipython",
    "version": 3
   },
   "file_extension": ".py",
   "mimetype": "text/x-python",
   "name": "python",
   "nbconvert_exporter": "python",
   "pygments_lexer": "ipython3",
   "version": "3.11.5"
  }
 },
 "nbformat": 4,
 "nbformat_minor": 5
}
